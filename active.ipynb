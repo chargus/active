{
 "cells": [
  {
   "cell_type": "code",
   "execution_count": 1,
   "metadata": {
    "collapsed": true
   },
   "outputs": [],
   "source": [
    "%matplotlib inline\n",
    "import numpy as np\n",
    "import matplotlib.pyplot as plt\n",
    "import scipy.spatial\n",
    "import active\n",
    "import monad"
   ]
  },
  {
   "cell_type": "code",
   "execution_count": 194,
   "metadata": {
    "collapsed": false
   },
   "outputs": [],
   "source": [
    "# Simulation settings\n",
    "n = 20\n",
    "eta = 0.1\n",
    "vel = 0.01\n",
    "rcut=.1\n",
    "L = 1.0\n",
    "nframes = 200\n",
    "nlog = 1\n",
    "np.random.seed(0)"
   ]
  },
  {
   "cell_type": "code",
   "execution_count": 195,
   "metadata": {
    "collapsed": false
   },
   "outputs": [],
   "source": [
    "init_pos, init_thetas = active.initialize(n)\n",
    "ptraj, ttraj = active.run(init_pos, init_thetas, eta, vel, L, nframes, nlog=nlog, rcut=rcut)"
   ]
  },
  {
   "cell_type": "code",
   "execution_count": 196,
   "metadata": {
    "collapsed": true
   },
   "outputs": [],
   "source": [
    "def write_frames(ptraj, start=0, stop=None, stride=1, dpi=100):\n",
    "    if stop is None:\n",
    "        stop = len(ptraj)\n",
    "    for count, frameid in enumerate(range(start, stop, stride)):\n",
    "        fig = plt.figure()\n",
    "        ax = fig.add_subplot(111)\n",
    "        ax.scatter(*ptraj[frameid].T)\n",
    "        ax.set_xlim(0, L)\n",
    "        ax.set_ylim(0, L)\n",
    "        fig.savefig('f/active/{}.png'.format(count), dpi=100, bbox_inches='tight')\n",
    "        plt.close(fig)    "
   ]
  },
  {
   "cell_type": "code",
   "execution_count": 197,
   "metadata": {
    "collapsed": true
   },
   "outputs": [],
   "source": [
    "def plot_arrows(ptraj, start=0, stop=None, stride=1, dpi=100):\n",
    "    if stop is None:\n",
    "        stop = len(ptraj)\n",
    "    for count, frameid in enumerate(range(start, stop, stride)):\n",
    "        fig = plt.figure()\n",
    "        ax = fig.add_subplot(111)\n",
    "        X = ptraj[frameid][:,0]\n",
    "        Y = ptraj[frameid][:,1]\n",
    "        U = np.cos(ttraj[frameid])\n",
    "        V = np.sin(ttraj[frameid])\n",
    "        Q = plt.quiver(X, Y, U, V, units='width')\n",
    "        ax.set_xlim(0, L)\n",
    "        ax.set_ylim(0, L)\n",
    "        fig.savefig('f/active/{}.png'.format(count), dpi=100, bbox_inches='tight')\n",
    "        plt.close(fig)    "
   ]
  },
  {
   "cell_type": "code",
   "execution_count": 198,
   "metadata": {
    "collapsed": true
   },
   "outputs": [],
   "source": [
    "%%bash \n",
    "rm f/active/*.png"
   ]
  },
  {
   "cell_type": "code",
   "execution_count": 199,
   "metadata": {
    "collapsed": true
   },
   "outputs": [],
   "source": [
    "plot_arrows(ptraj, 0, None, 5, dpi=50)"
   ]
  },
  {
   "cell_type": "code",
   "execution_count": 200,
   "metadata": {
    "collapsed": true
   },
   "outputs": [],
   "source": [
    "%%bash\n",
    "ffmpeg -framerate 15 -i f/active/%d.png f/active/out.mp4 -y  -loglevel error"
   ]
  },
  {
   "cell_type": "code",
   "execution_count": null,
   "metadata": {
    "collapsed": true
   },
   "outputs": [],
   "source": [
    "<video controls src=\"f/active/out.mp4\" />"
   ]
  },
  {
   "cell_type": "markdown",
   "metadata": {},
   "source": [
    "<video controls src=\"f/active/out.mp4\" />"
   ]
  },
  {
   "cell_type": "code",
   "execution_count": 102,
   "metadata": {
    "collapsed": true
   },
   "outputs": [],
   "source": [
    "X, Y = np.meshgrid(np.arange(0, 2 * np.pi, .2), np.arange(0, 2 * np.pi, .2))\n"
   ]
  },
  {
   "cell_type": "code",
   "execution_count": 22,
   "metadata": {
    "collapsed": false
   },
   "outputs": [],
   "source": [
    "pos, thetas = active.initialize(n,L)"
   ]
  },
  {
   "cell_type": "code",
   "execution_count": 23,
   "metadata": {
    "collapsed": false
   },
   "outputs": [
    {
     "ename": "NameError",
     "evalue": "name 'rcut' is not defined",
     "output_type": "error",
     "traceback": [
      "\u001b[1;31m---------------------------------------------------------------------------\u001b[0m",
      "\u001b[1;31mNameError\u001b[0m                                 Traceback (most recent call last)",
      "\u001b[1;32m<ipython-input-23-bc26cc813964>\u001b[0m in \u001b[0;36m<module>\u001b[1;34m()\u001b[0m\n\u001b[1;32m----> 1\u001b[1;33m \u001b[0mactive\u001b[0m\u001b[1;33m.\u001b[0m\u001b[0malign\u001b[0m\u001b[1;33m(\u001b[0m\u001b[0mpos\u001b[0m\u001b[1;33m,\u001b[0m \u001b[0mthetas\u001b[0m\u001b[1;33m,\u001b[0m \u001b[0meta\u001b[0m\u001b[1;33m,\u001b[0m \u001b[0mrcut\u001b[0m\u001b[1;33m,\u001b[0m \u001b[0mL\u001b[0m\u001b[1;33m)\u001b[0m\u001b[1;33m\u001b[0m\u001b[0m\n\u001b[0m",
      "\u001b[1;31mNameError\u001b[0m: name 'rcut' is not defined"
     ]
    }
   ],
   "source": [
    "active.align(pos, thetas, eta, rcut=, L)"
   ]
  },
  {
   "cell_type": "code",
   "execution_count": 20,
   "metadata": {
    "collapsed": false
   },
   "outputs": [
    {
     "data": {
      "text/plain": [
       "0.8"
      ]
     },
     "execution_count": 20,
     "metadata": {},
     "output_type": "execute_result"
    }
   ],
   "source": [
    "-1.2%1.0"
   ]
  },
  {
   "cell_type": "code",
   "execution_count": 14,
   "metadata": {
    "collapsed": false
   },
   "outputs": [
    {
     "data": {
      "text/plain": [
       "array([[ 2.16627558,  1.70669293],\n",
       "       [ 1.28203683,  1.87905638],\n",
       "       [ 2.37133077,  0.73367973],\n",
       "       [ 1.57075804,  2.25105764],\n",
       "       [ 1.6887653 ,  0.26983025],\n",
       "       [ 1.56650951,  0.94724306],\n",
       "       [ 2.35092224,  1.75674147],\n",
       "       [ 1.4510227 ,  1.21791581],\n",
       "       [ 1.97897672,  0.93491494],\n",
       "       [ 1.93830941,  0.56080075],\n",
       "       [ 2.19873785,  1.07469311],\n",
       "       [ 1.86085399,  1.76022156],\n",
       "       [ 2.26658167,  0.71490481],\n",
       "       [ 1.5451401 ,  0.65166083],\n",
       "       [ 0.86485789,  1.6229924 ],\n",
       "       [ 1.55329234,  0.90356793],\n",
       "       [ 1.99635041,  2.02644503],\n",
       "       [ 1.59224515,  1.35775173],\n",
       "       [ 1.10524991,  0.59040415],\n",
       "       [ 1.20743871,  1.11088304],\n",
       "       [ 2.2511373 ,  1.84861115],\n",
       "       [ 1.45886797,  0.90646054],\n",
       "       [ 1.45107682,  1.53488192],\n",
       "       [ 1.49655349,  1.90353877],\n",
       "       [ 1.30666359,  1.31827064],\n",
       "       [ 1.45062815,  1.25842841],\n",
       "       [ 1.58382782,  1.3130308 ],\n",
       "       [ 2.41463132,  1.75366922],\n",
       "       [ 1.36926674,  1.07774803],\n",
       "       [ 1.71617473,  1.06243859],\n",
       "       [ 1.58829906,  1.76898484],\n",
       "       [ 1.59350691,  0.63171852],\n",
       "       [ 1.61034657,  0.44885196],\n",
       "       [ 2.12925246,  0.73168481],\n",
       "       [ 1.26818776,  1.51256318],\n",
       "       [ 0.76821856,  0.99003827],\n",
       "       [ 1.30083926,  1.03658465],\n",
       "       [ 1.81393408,  1.20536965],\n",
       "       [ 1.60057882,  1.17826016],\n",
       "       [ 1.62001294,  1.35911722],\n",
       "       [ 1.47051121,  1.9521259 ],\n",
       "       [ 1.25656118,  1.42501692],\n",
       "       [ 1.17138289,  0.94451116],\n",
       "       [ 2.00776945,  1.05445721],\n",
       "       [ 2.57296867,  1.82104463],\n",
       "       [ 1.56145783,  0.72287936],\n",
       "       [ 2.41048244,  1.2328891 ],\n",
       "       [ 2.26954535,  1.66352613],\n",
       "       [ 1.53665423,  0.22567669],\n",
       "       [ 1.40775218,  1.24062275],\n",
       "       [ 0.92043987,  1.73605718],\n",
       "       [ 1.92458938,  1.55071106],\n",
       "       [ 2.17770252,  1.63482731],\n",
       "       [ 2.5469189 ,  1.50087226],\n",
       "       [ 1.61034939,  1.81735274],\n",
       "       [ 2.01410386,  0.87800111],\n",
       "       [ 2.17250626,  1.8209355 ],\n",
       "       [ 2.02675275,  1.40231189],\n",
       "       [ 1.5198875 ,  1.00800538],\n",
       "       [ 1.23304795,  2.03884921],\n",
       "       [ 1.58233327,  0.95129395],\n",
       "       [ 1.97893423,  0.76292529],\n",
       "       [ 1.43550075,  1.17428277],\n",
       "       [ 0.60930658,  0.90148992],\n",
       "       [ 1.51661995,  0.97830631],\n",
       "       [ 1.31757735,  0.92768144],\n",
       "       [ 2.25546931,  1.17689456],\n",
       "       [ 1.35713396,  1.243538  ],\n",
       "       [ 1.32435455,  1.79952198],\n",
       "       [ 2.00474845,  0.77619867],\n",
       "       [ 1.24232223,  1.11689024],\n",
       "       [ 1.74426094,  1.82517658],\n",
       "       [ 1.20247794,  2.13779016],\n",
       "       [ 1.64887024,  0.66260655],\n",
       "       [ 2.16250569,  0.56834876],\n",
       "       [ 1.62945296,  0.75244123],\n",
       "       [ 2.09289382,  1.35433009],\n",
       "       [ 2.25315509,  0.80177278],\n",
       "       [ 1.65837275,  1.06677391],\n",
       "       [ 1.20682956,  1.84471549],\n",
       "       [ 2.39996269,  0.56261792],\n",
       "       [ 1.5383191 ,  1.06194694],\n",
       "       [ 2.25082412,  0.57303093],\n",
       "       [ 1.41598022,  0.57472086],\n",
       "       [ 1.82157012,  0.75920543],\n",
       "       [ 1.86458056,  1.32578146],\n",
       "       [ 1.21259094,  1.39823151],\n",
       "       [ 1.35859269,  1.27384691],\n",
       "       [ 1.15697667,  0.22041706],\n",
       "       [ 2.34596094,  1.52559908],\n",
       "       [ 1.28249011,  1.15536035],\n",
       "       [ 1.90671062,  1.75886474],\n",
       "       [ 1.6103755 ,  1.18465071],\n",
       "       [ 1.70123061,  0.94664209],\n",
       "       [ 1.5409865 ,  1.72628151],\n",
       "       [ 1.4109205 ,  0.27709448],\n",
       "       [ 2.16971836,  0.96377915],\n",
       "       [ 1.44247205,  1.81765189],\n",
       "       [ 2.18786365,  0.67660054],\n",
       "       [ 1.37998406,  0.95623678]])"
      ]
     },
     "execution_count": 14,
     "metadata": {},
     "output_type": "execute_result"
    }
   ],
   "source": [
    "ptraj[3]"
   ]
  },
  {
   "cell_type": "code",
   "execution_count": null,
   "metadata": {
    "collapsed": true
   },
   "outputs": [],
   "source": []
  }
 ],
 "metadata": {
  "kernelspec": {
   "display_name": "Python 2",
   "language": "python",
   "name": "python2"
  },
  "language_info": {
   "codemirror_mode": {
    "name": "ipython",
    "version": 2
   },
   "file_extension": ".py",
   "mimetype": "text/x-python",
   "name": "python",
   "nbconvert_exporter": "python",
   "pygments_lexer": "ipython2",
   "version": "2.7.12"
  }
 },
 "nbformat": 4,
 "nbformat_minor": 0
}
