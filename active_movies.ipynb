{
 "cells": [
  {
   "cell_type": "code",
   "execution_count": 1,
   "metadata": {
    "collapsed": false
   },
   "outputs": [
    {
     "name": "stdout",
     "output_type": "stream",
     "text": [
      "Input parameters\n",
      "Number of particles 256\n",
      "Initial temperature 1.00000000e+00\n",
      "Box size 5.30000000e+00\n",
      "epsilon 1.00000000e+00\n",
      "sigma 1.00000000e+00\n",
      "dt 5.00000000e-03\n",
      "Total time 1.00000000e+02\n",
      "Number of steps 20000\n"
     ]
    }
   ],
   "source": [
    "%matplotlib inline\n",
    "import numpy as np\n",
    "import matplotlib.pyplot as plt\n",
    "import scipy.spatial\n",
    "import scipy.optimize\n",
    "import active\n",
    "import monad\n",
    "import seaborn as sns\n",
    "sns.set_context('notebook')"
   ]
  },
  {
   "cell_type": "code",
   "execution_count": 16,
   "metadata": {
    "collapsed": true
   },
   "outputs": [],
   "source": [
    "def plot_arrows(outdir, ptraj, start=0, stop=None, stride=1, dpi=100):\n",
    "    L = np.sqrt(n/rho)\n",
    "    if stop is None:\n",
    "        stop = len(ptraj)\n",
    "    for count, frameid in enumerate(range(start, stop, stride)):\n",
    "        fig = plt.figure()\n",
    "        ax = fig.add_subplot(111)\n",
    "        X = ptraj[frameid][:,0]\n",
    "        Y = ptraj[frameid][:,1]\n",
    "        U = np.cos(ttraj[frameid])\n",
    "        V = np.sin(ttraj[frameid])\n",
    "        Q = plt.quiver(X, Y, U, V, units='width')\n",
    "        ax.set_xlim(0, L)\n",
    "        ax.set_ylim(0, L)\n",
    "        ax.set_xticklabels([])\n",
    "        ax.set_yticklabels([])\n",
    "        fig.savefig('{}/{}.png'.format(outdir, count), dpi=100, bbox_inches='tight')\n",
    "        plt.close(fig)    "
   ]
  },
  {
   "cell_type": "code",
   "execution_count": 27,
   "metadata": {
    "collapsed": true
   },
   "outputs": [],
   "source": [
    "# General simulation settings for all eta values\n",
    "n = 1000\n",
    "rho = 4.0\n",
    "vel = 0.1\n",
    "rcut = None\n",
    "nlog = 1\n",
    "nframes = 200\n",
    "np.random.seed(100)"
   ]
  },
  {
   "cell_type": "markdown",
   "metadata": {},
   "source": [
    "### Ordered ($\\eta = 0.5$)"
   ]
  },
  {
   "cell_type": "code",
   "execution_count": 21,
   "metadata": {
    "collapsed": false
   },
   "outputs": [],
   "source": [
    "%%bash \n",
    "mkdir -p f/active0.5/\n",
    "rm -f f/active0.5/*.png"
   ]
  },
  {
   "cell_type": "code",
   "execution_count": 22,
   "metadata": {
    "collapsed": true
   },
   "outputs": [],
   "source": [
    "eta = 0.5\n",
    "ptraj, ttraj = active.run(n, rho, eta, vel, rcut, nframes, nlog)"
   ]
  },
  {
   "cell_type": "code",
   "execution_count": 23,
   "metadata": {
    "collapsed": false
   },
   "outputs": [],
   "source": [
    "plot_arrows('f/active{}'.format(eta), ptraj, 0, None, 2, dpi=50)"
   ]
  },
  {
   "cell_type": "code",
   "execution_count": 24,
   "metadata": {
    "collapsed": true
   },
   "outputs": [],
   "source": [
    "%%bash\n",
    "ffmpeg -framerate 15 -i f/active0.5/%d.png f/active0.5/out.mp4 -y  -loglevel error"
   ]
  },
  {
   "cell_type": "markdown",
   "metadata": {},
   "source": [
    "<video controls src=\"f/active0.5/out.mp4\" />"
   ]
  },
  {
   "cell_type": "markdown",
   "metadata": {},
   "source": [
    "### Near critical point ($\\eta = 2.75$)"
   ]
  },
  {
   "cell_type": "code",
   "execution_count": 28,
   "metadata": {
    "collapsed": true
   },
   "outputs": [],
   "source": [
    "%%bash \n",
    "mkdir -p f/active2.75/\n",
    "rm -f f/active2.75/*.png"
   ]
  },
  {
   "cell_type": "code",
   "execution_count": 29,
   "metadata": {
    "collapsed": true
   },
   "outputs": [],
   "source": [
    "eta = 2.75\n",
    "ptraj, ttraj = active.run(n, rho, eta, vel, rcut, nframes, nlog)"
   ]
  },
  {
   "cell_type": "code",
   "execution_count": 30,
   "metadata": {
    "collapsed": true
   },
   "outputs": [],
   "source": [
    "plot_arrows('f/active{}'.format(eta), ptraj, 0, None, 2, dpi=50)"
   ]
  },
  {
   "cell_type": "code",
   "execution_count": 31,
   "metadata": {
    "collapsed": true
   },
   "outputs": [],
   "source": [
    "%%bash\n",
    "ffmpeg -framerate 15 -i f/active2.75/%d.png f/active2.75/out.mp4 -y  -loglevel error"
   ]
  },
  {
   "cell_type": "markdown",
   "metadata": {},
   "source": [
    "<video controls src=\"f/active2.75/out.mp4\" />"
   ]
  },
  {
   "cell_type": "markdown",
   "metadata": {},
   "source": [
    "### Disordered ($\\eta = 5.0$)"
   ]
  },
  {
   "cell_type": "code",
   "execution_count": 32,
   "metadata": {
    "collapsed": true
   },
   "outputs": [],
   "source": [
    "%%bash \n",
    "mkdir -p f/active5.0/\n",
    "rm -f f/active5.0/*.png"
   ]
  },
  {
   "cell_type": "code",
   "execution_count": 33,
   "metadata": {
    "collapsed": true
   },
   "outputs": [],
   "source": [
    "eta = 5.0\n",
    "ptraj, ttraj = active.run(n, rho, eta, vel, rcut, nframes, nlog)"
   ]
  },
  {
   "cell_type": "code",
   "execution_count": 34,
   "metadata": {
    "collapsed": true
   },
   "outputs": [],
   "source": [
    "plot_arrows('f/active{}'.format(eta), ptraj, 0, None, 2, dpi=50)"
   ]
  },
  {
   "cell_type": "code",
   "execution_count": 35,
   "metadata": {
    "collapsed": true
   },
   "outputs": [],
   "source": [
    "%%bash\n",
    "ffmpeg -framerate 15 -i f/active5.0/%d.png f/active5.0/out.mp4 -y  -loglevel error"
   ]
  },
  {
   "cell_type": "markdown",
   "metadata": {},
   "source": [
    "<video controls src=\"f/active5.0/out.mp4\" />"
   ]
  },
  {
   "cell_type": "markdown",
   "metadata": {},
   "source": [
    "Can I plot paths of particles?"
   ]
  },
  {
   "cell_type": "code",
   "execution_count": null,
   "metadata": {
    "collapsed": true
   },
   "outputs": [],
   "source": []
  },
  {
   "cell_type": "markdown",
   "metadata": {},
   "source": [
    "### Near critical point ($\\eta = 2.75$)"
   ]
  },
  {
   "cell_type": "code",
   "execution_count": 41,
   "metadata": {
    "collapsed": true
   },
   "outputs": [],
   "source": [
    "%%bash \n",
    "mkdir -p f/active_r1_2.75/\n",
    "rm -f f/active_r1_2.75/*.png"
   ]
  },
  {
   "cell_type": "code",
   "execution_count": 47,
   "metadata": {
    "collapsed": false
   },
   "outputs": [],
   "source": [
    "eta = 2.75\n",
    "rcut = 1.\n",
    "ptraj, ttraj = active.run(n, rho, eta, vel, rcut, nframes, nlog)"
   ]
  },
  {
   "cell_type": "code",
   "execution_count": 48,
   "metadata": {
    "collapsed": false
   },
   "outputs": [],
   "source": [
    "plot_arrows('f/active_r1_{}'.format(eta), ptraj, 0, None, 2, dpi=50)"
   ]
  },
  {
   "cell_type": "code",
   "execution_count": 49,
   "metadata": {
    "collapsed": true
   },
   "outputs": [],
   "source": [
    "%%bash\n",
    "ffmpeg -framerate 15 -i f/active_r1_2.75/%d.png f/active_r1_2.75/out.mp4 -y  -loglevel error"
   ]
  },
  {
   "cell_type": "markdown",
   "metadata": {},
   "source": [
    "<video controls src=\"f/active_r1_2.75/out.mp4\" />"
   ]
  },
  {
   "cell_type": "code",
   "execution_count": 51,
   "metadata": {
    "collapsed": true
   },
   "outputs": [],
   "source": [
    "frameid = 0\n",
    "X = ptraj[frameid][:,0]\n",
    "Y = ptraj[frameid][:,1]\n",
    "U = np.cos(ttraj[frameid])\n",
    "V = np.sin(ttraj[frameid])"
   ]
  },
  {
   "cell_type": "code",
   "execution_count": 77,
   "metadata": {
    "collapsed": true
   },
   "outputs": [],
   "source": [
    "mask = np.abs(Y - np.max(Y)/2.) < .2"
   ]
  },
  {
   "cell_type": "code",
   "execution_count": 81,
   "metadata": {
    "collapsed": false
   },
   "outputs": [
    {
     "data": {
      "text/plain": [
       "(array([  2,  15,  16,  67,  87, 128, 160, 211, 270, 306, 313, 318, 319,\n",
       "        407, 419, 455, 514, 571, 588, 702, 727, 737, 864, 894, 952, 972,\n",
       "        974, 994]),)"
      ]
     },
     "execution_count": 81,
     "metadata": {},
     "output_type": "execute_result"
    }
   ],
   "source": [
    "np.where(mask)"
   ]
  },
  {
   "cell_type": "code",
   "execution_count": null,
   "metadata": {
    "collapsed": true
   },
   "outputs": [],
   "source": [
    "colors = np."
   ]
  },
  {
   "cell_type": "code",
   "execution_count": 103,
   "metadata": {
    "collapsed": false
   },
   "outputs": [],
   "source": [
    "mask = np.abs(Y - np.max(Y)/2.) < .2\n",
    "C = np.empty_like(mask, dtype='str')\n",
    "C[mask]='r'\n",
    "C[~mask]='g'"
   ]
  },
  {
   "cell_type": "code",
   "execution_count": 121,
   "metadata": {
    "collapsed": true
   },
   "outputs": [],
   "source": [
    "C = np.empty_like(mask,dtype=float)\n",
    "C[mask] = 0.1\n",
    "C[~mask] = 0.0"
   ]
  },
  {
   "cell_type": "code",
   "execution_count": 201,
   "metadata": {
    "collapsed": true
   },
   "outputs": [],
   "source": [
    "def plot_arrows_colored(outdir, ptraj, start=0, stop=None, stride=1, dpi=100):\n",
    "    L = np.sqrt(n/rho)\n",
    "    if stop is None:\n",
    "        stop = len(ptraj)\n",
    "    for count, frameid in enumerate(range(start, stop, stride)):\n",
    "        fig = plt.figure()\n",
    "        ax = fig.add_subplot(111)\n",
    "        X = ptraj[frameid][:,0]\n",
    "        Y = ptraj[frameid][:,1]\n",
    "        U = np.cos(ttraj[frameid])\n",
    "        V = np.sin(ttraj[frameid])\n",
    "        if count == 0:\n",
    "            mask = (np.abs(Y - np.max(Y)/2.) < .5)\n",
    "            mask = mask | (np.abs(X - np.max(X)/2.) < .5)\n",
    "            C = mask\n",
    "        Q = plt.quiver(X, Y, U, V, C, units='width', cmap='jet', pivot='mid')\n",
    "        ax.set_xlim(0, L)\n",
    "        ax.set_ylim(0, L)\n",
    "        ax.set_xticklabels([])\n",
    "        ax.set_yticklabels([])\n",
    "        fig.savefig('{}/{}.png'.format(outdir, count), dpi=100, bbox_inches='tight')\n",
    "        plt.close(fig)    "
   ]
  },
  {
   "cell_type": "code",
   "execution_count": 143,
   "metadata": {
    "collapsed": true
   },
   "outputs": [],
   "source": [
    "%%bash \n",
    "mkdir -p f/active_r1_colored_2.75/\n",
    "rm -f f/active_r1_colored_2.75/*.png"
   ]
  },
  {
   "cell_type": "code",
   "execution_count": 144,
   "metadata": {
    "collapsed": false
   },
   "outputs": [],
   "source": [
    "plot_arrows_colored('f/active_r1_colored_{}'.format(eta), ptraj, 0, None, 2, dpi=50)"
   ]
  },
  {
   "cell_type": "code",
   "execution_count": 145,
   "metadata": {
    "collapsed": false
   },
   "outputs": [],
   "source": [
    "%%bash\n",
    "ffmpeg -framerate 15 -i f/active_r1_colored_2.75/%d.png f/active_r1_colored_2.75/out.mp4 -y  -loglevel error"
   ]
  },
  {
   "cell_type": "markdown",
   "metadata": {},
   "source": [
    "<video controls src=\"f/active_r1_colored_2.75/out.mp4\" />"
   ]
  },
  {
   "cell_type": "code",
   "execution_count": 148,
   "metadata": {
    "collapsed": false
   },
   "outputs": [
    {
     "data": {
      "text/plain": [
       "(1000, 2)"
      ]
     },
     "execution_count": 148,
     "metadata": {},
     "output_type": "execute_result"
    }
   ],
   "source": [
    "ptraj[0].shape"
   ]
  },
  {
   "cell_type": "markdown",
   "metadata": {},
   "source": [
    "### Small rcut ordered ($\\eta = 0.5$)"
   ]
  },
  {
   "cell_type": "code",
   "execution_count": 202,
   "metadata": {
    "collapsed": true
   },
   "outputs": [],
   "source": [
    "%%bash \n",
    "mkdir -p f/active_r.05_0.5/\n",
    "rm -f f/active_r.05_0.5/*.png"
   ]
  },
  {
   "cell_type": "code",
   "execution_count": 175,
   "metadata": {
    "collapsed": false
   },
   "outputs": [],
   "source": [
    "eta = 0.5\n",
    "ptraj, ttraj = active.run(n, rho, eta, vel, .05, 100, nlog)  # set rcut=.05"
   ]
  },
  {
   "cell_type": "code",
   "execution_count": 203,
   "metadata": {
    "collapsed": true
   },
   "outputs": [],
   "source": [
    "plot_arrows_colored('f/active_r.05_0.5'.format(eta), ptraj, 0, None, 2, dpi=50)"
   ]
  },
  {
   "cell_type": "code",
   "execution_count": 204,
   "metadata": {
    "collapsed": true
   },
   "outputs": [],
   "source": [
    "%%bash\n",
    "ffmpeg -framerate 15 -i f/active_r.05_0.5/%d.png f/active_r.05_0.5/out.mp4 -y  -loglevel error"
   ]
  },
  {
   "cell_type": "markdown",
   "metadata": {},
   "source": [
    "<video controls src=\"f/active_r.05_0.5/out.mp4\" />"
   ]
  },
  {
   "cell_type": "markdown",
   "metadata": {},
   "source": [
    "### Small rcut ordered ($\\eta = 0.5$) with mod"
   ]
  },
  {
   "cell_type": "code",
   "execution_count": 205,
   "metadata": {
    "collapsed": true
   },
   "outputs": [],
   "source": [
    "%%bash \n",
    "mkdir -p f/active_mod/\n",
    "rm -f f/active_mod/*.png"
   ]
  },
  {
   "cell_type": "code",
   "execution_count": 244,
   "metadata": {
    "collapsed": false
   },
   "outputs": [],
   "source": [
    "eta = 0.5\n",
    "ptraj, ttraj = active.run(n, rho, eta, vel, .05, 100, nlog, True)  # set rcut=.05"
   ]
  },
  {
   "cell_type": "code",
   "execution_count": 245,
   "metadata": {
    "collapsed": true
   },
   "outputs": [],
   "source": [
    "plot_arrows_colored('f/active_mod'.format(eta), ptraj, 0, None, 2, dpi=50)"
   ]
  },
  {
   "cell_type": "code",
   "execution_count": 246,
   "metadata": {
    "collapsed": true
   },
   "outputs": [],
   "source": [
    "%%bash\n",
    "ffmpeg -framerate 15 -i f/active_mod/%d.png f/active_mod/out.mp4 -y  -loglevel error"
   ]
  },
  {
   "cell_type": "markdown",
   "metadata": {},
   "source": [
    "<video controls src=\"f/active_mod/out.mp4\" />"
   ]
  },
  {
   "cell_type": "code",
   "execution_count": null,
   "metadata": {
    "collapsed": true
   },
   "outputs": [],
   "source": []
  }
 ],
 "metadata": {
  "kernelspec": {
   "display_name": "Python 2",
   "language": "python",
   "name": "python2"
  },
  "language_info": {
   "codemirror_mode": {
    "name": "ipython",
    "version": 2
   },
   "file_extension": ".py",
   "mimetype": "text/x-python",
   "name": "python",
   "nbconvert_exporter": "python",
   "pygments_lexer": "ipython2",
   "version": "2.7.12"
  }
 },
 "nbformat": 4,
 "nbformat_minor": 0
}
