{
 "cells": [
  {
   "cell_type": "code",
   "execution_count": 109,
   "metadata": {
    "collapsed": true
   },
   "outputs": [],
   "source": [
    "%matplotlib inline\n",
    "import numpy as np\n",
    "import matplotlib.pyplot as plt"
   ]
  },
  {
   "cell_type": "markdown",
   "metadata": {},
   "source": [
    "Approach adapted from https://www.labri.fr/perso/nrougier/from-python-to-numpy/#boids"
   ]
  },
  {
   "cell_type": "markdown",
   "metadata": {},
   "source": [
    "### Begin with a 2D LJ simulation"
   ]
  },
  {
   "cell_type": "markdown",
   "metadata": {},
   "source": [
    "This will be a 2-dimensional simulation of Lennard-Jones particles using all dimensionless parameters:\n",
    "* Time step $t = 1$\n",
    "* Particle mass $m = 1$\n",
    "* Temperature $T = 1$\n",
    "* LJ potential width $\\sigma=1$\n",
    "* LJ potential depth $\\epsilon=1$"
   ]
  },
  {
   "cell_type": "code",
   "execution_count": 110,
   "metadata": {
    "collapsed": true
   },
   "outputs": [],
   "source": [
    "# Define dimensionless parameters\n",
    "dt = 1.\n",
    "m = 1.\n",
    "kB = 1  # Boltzmann constant\n",
    "L = 10.  # Simulation box size"
   ]
  },
  {
   "cell_type": "code",
   "execution_count": 201,
   "metadata": {
    "collapsed": true
   },
   "outputs": [],
   "source": [
    "# Define simulation settings\n",
    "n = 25\n",
    "T = 1.\n",
    "sigma = 1.\n",
    "epsilon = 1.\n",
    "rcut = 4.\n",
    "assert(rcut < L/2)\n",
    "dtlog = 10 # Log to trajectory every dtlog time steps"
   ]
  },
  {
   "cell_type": "code",
   "execution_count": 169,
   "metadata": {
    "collapsed": true
   },
   "outputs": [],
   "source": [
    "# Initialize positions\n",
    "pos = np.zeros((n, 2), dtype=np.float32)\n",
    "nside = int(np.sqrt(n))  # For now, just assume sqrt(n) is integer... deal with general case later\n",
    "lside = (4./5.) * L  # Shrink initial lattice slightly to avoid overlap of periodic images\n",
    "x = np.linspace(-lside/2, lside/2, nside)\n",
    "y = np.linspace(-lside/2, lside/2, nside)\n",
    "X,Y = np.meshgrid(x,y)\n",
    "pos_init = np.array([X.flatten(),Y.flatten()]).T\n",
    "pos += pos_init\n",
    "pos += np.random.uniform(0, .3, pos.shape)  #  Add some noise to break the symmetry}"
   ]
  },
  {
   "cell_type": "code",
   "execution_count": 170,
   "metadata": {
    "collapsed": false
   },
   "outputs": [
    {
     "data": {
      "text/plain": [
       "<matplotlib.collections.PathCollection at 0x7fc4fed88f10>"
      ]
     },
     "execution_count": 170,
     "metadata": {},
     "output_type": "execute_result"
    },
    {
     "data": {
      "image/png": "[encoded data removed]",
      "text/plain": [
       "<matplotlib.figure.Figure at 0x7fc4fcfab8d0>"
      ]
     },
     "metadata": {},
     "output_type": "display_data"
    }
   ],
   "source": [
    "# Visualize uniform initial positions in simulation box\n",
    "plt.scatter(pos[:,0], pos[:,1])"
   ]
  },
  {
   "cell_type": "code",
   "execution_count": 171,
   "metadata": {
    "collapsed": true
   },
   "outputs": [],
   "source": [
    "# Initialize velocities to uniform distribution with zero mean\n",
    "velocity = np.zeros((n, 2), dtype=np.float32)\n",
    "velocity += np.random.uniform(-.5, .5, size=(n, 2))  # Uniform random velocities\n",
    "velocity -= np.mean(velocity) # Subtract the mean (no bulk flow)\n",
    "# for i in range(velocity.shape[1]):\n",
    "#     velocity[:,i] /= np.mean(velocity[:,i]**2)  # Scale the velocities to get desired initial temperature"
   ]
  },
  {
   "cell_type": "code",
   "execution_count": 172,
   "metadata": {
    "collapsed": true
   },
   "outputs": [],
   "source": [
    "# Determine particles within cutoff radius\n",
    "dx = np.subtract.outer(pos[:, 0], pos[:, 0])\n",
    "dy = np.subtract.outer(pos[:, 1], pos[:, 1])\n",
    "\n",
    "# Apply \"minimum image\" convention -- particles interact only with nearest periodic image\n",
    "dx[dx > L/2] -= L\n",
    "dx[dx < -L/2] += L\n",
    "\n",
    "dy[dy > L/2] -= L\n",
    "dy[dy < -L/2] += L\n",
    "\n",
    "r2 = dx**2 + dy**2  # Squared distance between all pairs of particles\n",
    "\n",
    "# Select interaction pairs within cutoff distance (also ignore self-interactions)\n",
    "mask = r2 < rcut**2\n",
    "mask *= r2 > 0"
   ]
  },
  {
   "cell_type": "code",
   "execution_count": 173,
   "metadata": {
    "collapsed": false
   },
   "outputs": [],
   "source": [
    "# Define functions for computing forces and energy\n",
    "def lj_potential(r2, sigma, epsilon):\n",
    "    \"\"\"Compute the Lennard-Jones potential\n",
    "    \n",
    "    Parameters\n",
    "    ----------\n",
    "    r2 : float or [N] numpy array\n",
    "        Squared particle-particle separation.\n",
    "    sigma : float\n",
    "        Width of the potential, defined by distance at which potential is zero.\n",
    "    epsilon : float\n",
    "        Depth of the potential well, relative to the energy at infinite separation.\n",
    "    \n",
    "    \"\"\"\n",
    "    energy = 4*epsilon*((sigma**2/r2)**6 - (sigma**2/r2)**3)\n",
    "    return energy\n",
    "\n",
    "def lj_force(r2, sigma, epsilon):\n",
    "    \"\"\"Compute the Lennard-Jones force.\n",
    "    \n",
    "    Returned value is normalized by r, such that it can be multiplied by the \n",
    "    x, y or z component of r to obtain the correct cartesian component of the \n",
    "    force.\n",
    "    \n",
    "    Parameters\n",
    "    ----------\n",
    "    r2 : float or [N] numpy array\n",
    "        Squared particle-particle separation.\n",
    "    sigma : float\n",
    "        Width of the potential, defined by distance at which potential is zero.\n",
    "    epsilon : float\n",
    "        Depth of the potential well, relative to the energy at infinite separation.\n",
    "    \n",
    "    \"\"\"\n",
    "    force = (48/r2)*epsilon*((sigma**2/r2)**6 - .5*(sigma**2/r2)**3)\n",
    "    return force"
   ]
  },
  {
   "cell_type": "code",
   "execution_count": 174,
   "metadata": {
    "collapsed": false
   },
   "outputs": [
    {
     "data": {
      "text/plain": [
       "<matplotlib.text.Text at 0x7fc4fecfc950>"
      ]
     },
     "execution_count": 174,
     "metadata": {},
     "output_type": "execute_result"
    },
    {
     "data": {
      "image/png": "[encoded data removed]",
      "text/plain": [
       "<matplotlib.figure.Figure at 0x7fc4fed2b610>"
      ]
     },
     "metadata": {},
     "output_type": "display_data"
    }
   ],
   "source": [
    "x = np.linspace(.9, 6, 100)\n",
    "pot = lj_potential(x, 1, 1)\n",
    "plt.plot(x, pot)\n",
    "plt.title('Lennard Jones Potential')"
   ]
  },
  {
   "cell_type": "code",
   "execution_count": 175,
   "metadata": {
    "collapsed": false
   },
   "outputs": [],
   "source": [
    "# Compute forces and energy\n",
    "energy = np.sum(lj_potential(r2[mask], sigma, epsilon))\n",
    "fx = np.zeros_like(dx)\n",
    "fx[mask] = dx[mask] * lj_force(r2[mask], sigma, epsilon)\n",
    "fy = np.zeros_like(dy)\n",
    "fy[mask] = dy[mask] * lj_force(r2[mask], sigma, epsilon)"
   ]
  },
  {
   "cell_type": "code",
   "execution_count": 204,
   "metadata": {
    "collapsed": false
   },
   "outputs": [],
   "source": [
    "# Run dynamics\n",
    "pos_prev = pos - velocity*dt  # Fake the pos at time step before initial pos\n",
    "nframes = 1000\n",
    "traj = np.empty((nframes/dtlog, pos.shape[0], pos.shape[1]))\n",
    "for i in range(nframes):\n",
    "    # Determine particles within cutoff radius\n",
    "    dx = np.subtract.outer(pos[:, 0], pos[:, 0])\n",
    "    dy = np.subtract.outer(pos[:, 1], pos[:, 1])\n",
    "\n",
    "    # Apply \"minimum image\" convention -- particles interact only with nearest periodic image\n",
    "    dx[dx > L/2] -= L\n",
    "    dx[dx < -L/2] += L\n",
    "    dy[dy > L/2] -= L\n",
    "    dy[dy < -L/2] += L\n",
    "    r2 = dx**2 + dy**2  # Squared distance between all pairs of particles\n",
    "\n",
    "    # Select interaction pairs within cutoff distance (also ignore self-interactions)\n",
    "    mask = r2 < rcut**2\n",
    "    mask *= r2 > 0    \n",
    "\n",
    "    # Compute forces and energy\n",
    "    energy = np.sum(lj_potential(r2[mask], sigma, epsilon))\n",
    "    fx = np.zeros_like(dx)\n",
    "    fx[mask] = dx[mask] * lj_force(r2[mask], sigma, epsilon)\n",
    "    fy = np.zeros_like(dy)\n",
    "    fy[mask] = dy[mask] * lj_force(r2[mask], sigma, epsilon)\n",
    "    \n",
    "    # Integrate equations of motion (Verlet)\n",
    "    net_fx = np.sum(fx, axis=1)\n",
    "    pos[:,0] = (2.*pos[:,0] - pos_prev[:,0] + net_fx/m*dt**2) % L  # % L accounts for PBCs\n",
    "    net_fy = np.sum(fy, axis=1)\n",
    "    pos[:,1] = (2.*pos[:,1] - pos_prev[:,1] + net_fy/m*dt**2) % L  # % L accounts for PBCs\n",
    "    if i % dtlog == 0:\n",
    "        traj[i/dtlog] = pos\n",
    "    pos_prev=pos\n",
    "    \n",
    "    "
   ]
  },
  {
   "cell_type": "markdown",
   "metadata": {},
   "source": [
    "## Visualize the trajectory"
   ]
  },
  {
   "cell_type": "code",
   "execution_count": 235,
   "metadata": {
    "collapsed": false
   },
   "outputs": [
    {
     "data": {
      "text/plain": [
       "<matplotlib.collections.PathCollection at 0x7fc4f7d57150>"
      ]
     },
     "execution_count": 235,
     "metadata": {},
     "output_type": "execute_result"
    },
    {
     "data": {
      "image/png": "[encoded data removed]",
      "text/plain": [
       "<matplotlib.figure.Figure at 0x7fc4fecfc710>"
      ]
     },
     "metadata": {},
     "output_type": "display_data"
    }
   ],
   "source": [
    "fig = plt.figure()\n",
    "ax = fig.add_subplot(111)\n",
    "ax.scatter(*traj[73].T)"
   ]
  },
  {
   "cell_type": "code",
   "execution_count": null,
   "metadata": {
    "collapsed": true
   },
   "outputs": [],
   "source": []
  }
 ],
 "metadata": {
  "kernelspec": {
   "display_name": "Python 2",
   "language": "python",
   "name": "python2"
  },
  "language_info": {
   "codemirror_mode": {
    "name": "ipython",
    "version": 2
   },
   "file_extension": ".py",
   "mimetype": "text/x-python",
   "name": "python",
   "nbconvert_exporter": "python",
   "pygments_lexer": "ipython2",
   "version": "2.7.12"
  }
 },
 "nbformat": 4,
 "nbformat_minor": 2
}
