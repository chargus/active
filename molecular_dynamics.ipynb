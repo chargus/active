{
 "cells": [
  {
   "cell_type": "code",
   "execution_count": 132,
   "metadata": {},
   "outputs": [],
   "source": [
    "import numpy as np\n",
    "import matplotlib.pyplot as plt"
   ]
  },
  {
   "cell_type": "markdown",
   "metadata": {},
   "source": [
    "Approach adapted from https://www.labri.fr/perso/nrougier/from-python-to-numpy/#boids"
   ]
  },
  {
   "cell_type": "markdown",
   "metadata": {},
   "source": [
    "### Begin with a 2D LJ simulation"
   ]
  },
  {
   "cell_type": "markdown",
   "metadata": {},
   "source": [
    "This will be a 2-dimensional simulation of Lennard-Jones particles using all dimensionless parameters:\n",
    "* Time step $t = 1$\n",
    "* Particle mass $m = 1$\n",
    "* Temperature $T = 1$\n",
    "* LJ potential width $\\sigma=1$\n",
    "* LJ potential depth $\\epsilon=1$"
   ]
  },
  {
   "cell_type": "code",
   "execution_count": 43,
   "metadata": {},
   "outputs": [],
   "source": [
    "# Define dimensionless parameters\n",
    "t = 1.\n",
    "m = 1.\n",
    "kB = 1  # Boltzmann constant\n",
    "L = 10.  # Simulation box size"
   ]
  },
  {
   "cell_type": "code",
   "execution_count": 228,
   "metadata": {},
   "outputs": [],
   "source": [
    "# Define simulation settings\n",
    "T = 1.\n",
    "sigma = 1.\n",
    "epsilon = 1.\n",
    "rcut = 4.\n",
    "assert(rcut < L/2)"
   ]
  },
  {
   "cell_type": "code",
   "execution_count": 247,
   "metadata": {},
   "outputs": [],
   "source": [
    "n = 25"
   ]
  },
  {
   "cell_type": "code",
   "execution_count": 256,
   "metadata": {},
   "outputs": [
    {
     "data": {
      "text/plain": [
       "10.0"
      ]
     },
     "execution_count": 256,
     "metadata": {},
     "output_type": "execute_result"
    }
   ],
   "source": [
    "()"
   ]
  },
  {
   "cell_type": "code",
   "execution_count": 259,
   "metadata": {},
   "outputs": [],
   "source": [
    "# Initialize positions\n",
    "position = np.zeros((n, 2), dtype=np.float32)\n",
    "nside = int(np.sqrt(n))  # For now, just assume sqrt(n) is integer... deal with general case later\n",
    "lside = (4./5.) * L  # Shrink initial lattice slightly to avoid overlap of periodic images\n",
    "x = np.linspace(-lside/2, lside/2, nside)\n",
    "y = np.linspace(-lside/2, lside/2, nside)\n",
    "X,Y = np.meshgrid(x,y)\n",
    "pos_init = np.array([X.flatten(),Y.flatten()]).T\n",
    "position += pos_init"
   ]
  },
  {
   "cell_type": "code",
   "execution_count": 260,
   "metadata": {},
   "outputs": [
    {
     "data": {
      "text/plain": [
       "<matplotlib.collections.PathCollection at 0x7fc4682f0110>"
      ]
     },
     "execution_count": 260,
     "metadata": {},
     "output_type": "execute_result"
    },
    {
     "data": {
      "image/png": "[encoded data removed]",
      "text/plain": [
       "<Figure size 432x288 with 1 Axes>"
      ]
     },
     "metadata": {
      "needs_background": "light"
     },
     "output_type": "display_data"
    }
   ],
   "source": [
    "# Visualize uniform initial positions in simulation box\n",
    "plt.scatter(position[:,0], position[:,1])"
   ]
  },
  {
   "cell_type": "code",
   "execution_count": 261,
   "metadata": {},
   "outputs": [],
   "source": [
    "# Initialize velocities to uniform distribution with zero mean\n",
    "velocity = np.zeros((n, 2), dtype=np.float32)\n",
    "velocity += np.random.uniform(-.5, .5, size=(n, 2))  # Uniform random velocities\n",
    "velocity -= np.mean(velocity) # Subtract the mean (no bulk flow)\n",
    "# for i in range(velocity.shape[1]):\n",
    "#     velocity[:,i] /= np.mean(velocity[:,i]**2)  # Scale the velocities to get desired initial temperature"
   ]
  },
  {
   "cell_type": "code",
   "execution_count": 262,
   "metadata": {},
   "outputs": [],
   "source": [
    "# Determine particles within cutoff radius\n",
    "dx = np.subtract.outer(position[:, 0], position[:, 0])\n",
    "dy = np.subtract.outer(position[:, 1], position[:, 1])\n",
    "\n",
    "# Apply \"minimum image\" convention -- particles interact only with nearest periodic image\n",
    "dx[dx > L/2] -= L\n",
    "dx[dx < -L/2] += L\n",
    "\n",
    "dy[dy > L/2] -= L\n",
    "dy[dy < -L/2] += L\n",
    "\n",
    "r2 = dx**2 + dy**2  # Squared distance between all pairs of particles"
   ]
  },
  {
   "cell_type": "code",
   "execution_count": 269,
   "metadata": {},
   "outputs": [],
   "source": [
    "# Select interaction pairs within cutoff distance (ignoring self-interactions)\n",
    "mask = r2 < rcut**2\n",
    "mask *= r2 > 0"
   ]
  },
  {
   "cell_type": "code",
   "execution_count": 270,
   "metadata": {},
   "outputs": [
    {
     "ename": "TypeError",
     "evalue": "only size-1 arrays can be converted to Python scalars",
     "output_type": "error",
     "traceback": [
      "\u001b[0;31m---------------------------------------------------------------------------\u001b[0m",
      "\u001b[0;31mTypeError\u001b[0m                                 Traceback (most recent call last)",
      "\u001b[0;32m<ipython-input-270-c34a86b86cb6>\u001b[0m in \u001b[0;36m<module>\u001b[0;34m()\u001b[0m\n\u001b[0;32m----> 1\u001b[0;31m \u001b[0mint\u001b[0m\u001b[0;34m(\u001b[0m\u001b[0mdx\u001b[0m\u001b[0;34m/\u001b[0m\u001b[0mL\u001b[0m\u001b[0;34m)\u001b[0m\u001b[0;34m\u001b[0m\u001b[0m\n\u001b[0m",
      "\u001b[0;31mTypeError\u001b[0m: only size-1 arrays can be converted to Python scalars"
     ]
    }
   ],
   "source": [
    "int(dx/L)"
   ]
  },
  {
   "cell_type": "code",
   "execution_count": 27,
   "metadata": {},
   "outputs": [
    {
     "data": {
      "text/plain": [
       "dtype('float32')"
      ]
     },
     "execution_count": 27,
     "metadata": {},
     "output_type": "execute_result"
    }
   ],
   "source": [
    "# Compute forces\n",
    "energy = "
   ]
  },
  {
   "cell_type": "code",
   "execution_count": null,
   "metadata": {},
   "outputs": [],
   "source": []
  }
 ],
 "metadata": {
  "kernelspec": {
   "display_name": "Python 2",
   "language": "python",
   "name": "python2"
  },
  "language_info": {
   "codemirror_mode": {
    "name": "ipython",
    "version": 2
   },
   "file_extension": ".py",
   "mimetype": "text/x-python",
   "name": "python",
   "nbconvert_exporter": "python",
   "pygments_lexer": "ipython2",
   "version": "2.7.15"
  }
 },
 "nbformat": 4,
 "nbformat_minor": 2
}
