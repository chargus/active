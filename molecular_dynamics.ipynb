{
 "cells": [
  {
   "cell_type": "code",
   "execution_count": 1,
   "metadata": {
    "collapsed": false
   },
   "outputs": [
    {
     "name": "stdout",
     "output_type": "stream",
     "text": [
      "Input parameters\n",
      "Number of particles 256\n",
      "Initial temperature 1.00000000e+00\n",
      "Box size 5.30000000e+00\n",
      "epsilon 1.00000000e+00\n",
      "sigma 1.00000000e+00\n",
      "dt 5.00000000e-03\n",
      "Total time 1.00000000e+02\n",
      "Number of steps 20000\n"
     ]
    },
    {
     "data": {
      "text/plain": [
       "<module 'monad' from 'monad.pyc'>"
      ]
     },
     "execution_count": 1,
     "metadata": {},
     "output_type": "execute_result"
    }
   ],
   "source": [
    "%matplotlib inline\n",
    "import numpy as np\n",
    "import matplotlib.pyplot as plt\n",
    "import monad\n",
    "import scipy.stats\n",
    "import nve_basic\n",
    "reload(monad)"
   ]
  },
  {
   "cell_type": "markdown",
   "metadata": {},
   "source": [
    "Numpy vectorization approach adapted from https://www.labri.fr/perso/nrougier/from-python-to-numpy/#boids"
   ]
  },
  {
   "cell_type": "markdown",
   "metadata": {},
   "source": [
    "### Begin with a 2D LJ simulation"
   ]
  },
  {
   "cell_type": "markdown",
   "metadata": {},
   "source": [
    "This will be a 2-dimensional simulation of Lennard-Jones particles using all dimensionless parameters:\n",
    "* Time step $t = 1$\n",
    "* Particle mass $m = 1$\n",
    "* Temperature $T = 1$\n",
    "* LJ potential width $\\sigma=1$\n",
    "* LJ potential depth $\\epsilon=1$"
   ]
  },
  {
   "cell_type": "code",
   "execution_count": 4,
   "metadata": {
    "collapsed": true
   },
   "outputs": [],
   "source": [
    "# Define simulation settings\n",
    "n = 16\n",
    "L = 10.  # Simulation box size\n",
    "sigma = 1.\n",
    "epsilon = 1.\n",
    "rcut = 20.\n",
    "nlog = 10 # Log to trajectory every dtlog time steps\n",
    "dt = .5"
   ]
  },
  {
   "cell_type": "code",
   "execution_count": 5,
   "metadata": {
    "collapsed": false
   },
   "outputs": [],
   "source": [
    "pos = monad.initialize_positions(n, L)"
   ]
  },
  {
   "cell_type": "code",
   "execution_count": 6,
   "metadata": {
    "collapsed": false
   },
   "outputs": [
    {
     "data": {
      "text/plain": [
       "<matplotlib.collections.PathCollection at 0x7f845279c290>"
      ]
     },
     "execution_count": 6,
     "metadata": {},
     "output_type": "execute_result"
    },
    {
     "data": {
      "image/png": "[encoded data removed]",
      "text/plain": [
       "<matplotlib.figure.Figure at 0x7f8480a0abd0>"
      ]
     },
     "metadata": {},
     "output_type": "display_data"
    }
   ],
   "source": [
    "# Visualize uniform initial positions in simulation box\n",
    "plt.scatter(pos[:,0], pos[:,1])"
   ]
  },
  {
   "cell_type": "code",
   "execution_count": 7,
   "metadata": {
    "collapsed": false
   },
   "outputs": [
    {
     "data": {
      "text/plain": [
       "<matplotlib.legend.Legend at 0x7f844fe72ed0>"
      ]
     },
     "execution_count": 7,
     "metadata": {},
     "output_type": "execute_result"
    },
    {
     "data": {
      "image/png": "[encoded data removed]",
      "text/plain": [
       "<matplotlib.figure.Figure at 0x7f844ff0f110>"
      ]
     },
     "metadata": {},
     "output_type": "display_data"
    }
   ],
   "source": [
    "x = np.linspace(.9, 6, 100)\n",
    "force = monad.lj(x, 1, 1)[0]\n",
    "energy = monad.lj(x, 1, 1)[1]\n",
    "fig = plt.figure()\n",
    "ax = fig.add_subplot(111)\n",
    "ax.plot(x, force, label='force')\n",
    "ax.plot(x, energy, label='energy')\n",
    "ax.hlines(0, 0, 6, color = 'gray', linestyle='--')\n",
    "ax.vlines(1, -2, 1, color = 'gray', linestyle='--')\n",
    "ax.set_title('Lennard Jones Potential')\n",
    "ax.set_ylim(-2,1)\n",
    "ax.legend()"
   ]
  },
  {
   "cell_type": "code",
   "execution_count": 36,
   "metadata": {
    "collapsed": false
   },
   "outputs": [
    {
     "name": "stdout",
     "output_type": "stream",
     "text": [
      "CPU times: user 2.62 s, sys: 0 ns, total: 2.62 s\n",
      "Wall time: 2.62 s\n"
     ]
    }
   ],
   "source": [
    "%%time\n",
    "# Initialize and run trajectory\n",
    "nframes = int(1e4)\n",
    "dt = .01\n",
    "init_pos = monad.initialize_positions(n, L)\n",
    "init_vel = monad.initialize_velocities(n)\n",
    "ptraj, vtraj, etraj = monad.run(init_pos, init_vel, L, nframes=nframes, nlog=nlog, dt=dt)"
   ]
  },
  {
   "cell_type": "code",
   "execution_count": 37,
   "metadata": {
    "collapsed": false
   },
   "outputs": [
    {
     "data": {
      "text/plain": [
       "[<matplotlib.lines.Line2D at 0x7f844efced50>]"
      ]
     },
     "execution_count": 37,
     "metadata": {},
     "output_type": "execute_result"
    },
    {
     "data": {
      "image/png": "[encoded data removed]",
      "text/plain": [
       "<matplotlib.figure.Figure at 0x7f844f10ed10>"
      ]
     },
     "metadata": {},
     "output_type": "display_data"
    }
   ],
   "source": [
    "kinetic_energy = np.sum(vtraj**2, axis=(1,2))\n",
    "plt.plot(kinetic_energy)"
   ]
  },
  {
   "cell_type": "code",
   "execution_count": 38,
   "metadata": {
    "collapsed": false
   },
   "outputs": [
    {
     "data": {
      "text/plain": [
       "[<matplotlib.lines.Line2D at 0x7f844ef05590>]"
      ]
     },
     "execution_count": 38,
     "metadata": {},
     "output_type": "execute_result"
    },
    {
     "data": {
      "image/png": "[encoded data removed]",
      "text/plain": [
       "<matplotlib.figure.Figure at 0x7f844f096310>"
      ]
     },
     "metadata": {},
     "output_type": "display_data"
    }
   ],
   "source": [
    "plt.plot(etraj)"
   ]
  },
  {
   "cell_type": "code",
   "execution_count": 39,
   "metadata": {
    "collapsed": false
   },
   "outputs": [
    {
     "data": {
      "text/plain": [
       "[<matplotlib.lines.Line2D at 0x7f844ee35850>]"
      ]
     },
     "execution_count": 39,
     "metadata": {},
     "output_type": "execute_result"
    },
    {
     "data": {
      "image/png": "[encoded data removed]",
      "text/plain": [
       "<matplotlib.figure.Figure at 0x7f844f10eb50>"
      ]
     },
     "metadata": {},
     "output_type": "display_data"
    }
   ],
   "source": [
    "plt.plot(etraj + kinetic_energy)"
   ]
  },
  {
   "cell_type": "code",
   "execution_count": 105,
   "metadata": {
    "collapsed": false
   },
   "outputs": [
    {
     "data": {
      "text/plain": [
       "<matplotlib.collections.PathCollection at 0x7f22a5f24c10>"
      ]
     },
     "execution_count": 105,
     "metadata": {},
     "output_type": "execute_result"
    },
    {
     "data": {
      "image/png": "[encoded data removed]",
      "text/plain": [
       "<matplotlib.figure.Figure at 0x7f22a534c990>"
      ]
     },
     "metadata": {},
     "output_type": "display_data"
    }
   ],
   "source": [
    "plt.scatter(kinetic_energy, etraj)"
   ]
  },
  {
   "cell_type": "code",
   "execution_count": 107,
   "metadata": {
    "collapsed": false
   },
   "outputs": [
    {
     "data": {
      "text/plain": [
       "LinregressResult(slope=-1.0002336962562994, intercept=0.40914721689977374, rvalue=-0.99999983572162077, pvalue=0.0, stderr=1.8148530538575514e-05)"
      ]
     },
     "execution_count": 107,
     "metadata": {},
     "output_type": "execute_result"
    }
   ],
   "source": [
    "scipy.stats.linregress(kinetic_energy, etraj)"
   ]
  },
  {
   "cell_type": "markdown",
   "metadata": {},
   "source": [
    "## Visualize the trajectory"
   ]
  },
  {
   "cell_type": "code",
   "execution_count": 129,
   "metadata": {
    "collapsed": false
   },
   "outputs": [],
   "source": [
    "%%bash \n",
    "rm f/lj/*.png"
   ]
  },
  {
   "cell_type": "code",
   "execution_count": 130,
   "metadata": {
    "collapsed": true
   },
   "outputs": [],
   "source": [
    "def write_frames(ptraj, start=0, stop=None, stride=1, dpi=100):\n",
    "    if stop is None:\n",
    "        stop = len(ptraj)\n",
    "    for count, frameid in enumerate(range(start, stop, stride)):\n",
    "        fig = plt.figure()\n",
    "        ax = fig.add_subplot(111)\n",
    "        ax.scatter(*ptraj[frameid].T)\n",
    "        ax.set_xlim(-L/2, L/2)\n",
    "        ax.set_ylim(-L/2, L/2)\n",
    "        fig.savefig('f/lj/{}.png'.format(count), dpi=100, bbox_inches='tight')\n",
    "        plt.close(fig)    "
   ]
  },
  {
   "cell_type": "code",
   "execution_count": 131,
   "metadata": {
    "collapsed": false
   },
   "outputs": [],
   "source": [
    "write_frames(ptraj, 0, None, 5, dpi=50)"
   ]
  },
  {
   "cell_type": "code",
   "execution_count": 134,
   "metadata": {
    "collapsed": false,
    "scrolled": true
   },
   "outputs": [],
   "source": [
    "%%bash\n",
    "ffmpeg -framerate 15 -i f/lj/%d.png f/lj/out.mp4 -y  -loglevel error"
   ]
  },
  {
   "cell_type": "markdown",
   "metadata": {},
   "source": [
    "<video controls src=\"f/lj/out.mp4\" />"
   ]
  },
  {
   "cell_type": "markdown",
   "metadata": {},
   "source": [
    "## Convergence testing on $\\Delta t$"
   ]
  },
  {
   "cell_type": "code",
   "execution_count": 2,
   "metadata": {
    "collapsed": false
   },
   "outputs": [
    {
     "data": {
      "text/plain": [
       "array([[ 0.05,  0.05,  0.05],\n",
       "       [ 0.05,  0.15,  0.15],\n",
       "       [ 0.15,  0.15,  0.05],\n",
       "       [ 0.15,  0.05,  0.15],\n",
       "       [ 0.05,  0.05,  0.25],\n",
       "       [ 0.05,  0.15,  0.35],\n",
       "       [ 0.15,  0.15,  0.25],\n",
       "       [ 0.15,  0.05,  0.35],\n",
       "       [ 0.05,  0.05,  0.45],\n",
       "       [ 0.05,  0.15,  0.55],\n",
       "       [ 0.15,  0.15,  0.45],\n",
       "       [ 0.15,  0.05,  0.55],\n",
       "       [ 0.05,  0.05,  0.65],\n",
       "       [ 0.05,  0.15,  0.75],\n",
       "       [ 0.15,  0.15,  0.65],\n",
       "       [ 0.15,  0.05,  0.75],\n",
       "       [ 0.05,  0.25,  0.05],\n",
       "       [ 0.05,  0.35,  0.15],\n",
       "       [ 0.15,  0.35,  0.05],\n",
       "       [ 0.15,  0.25,  0.15],\n",
       "       [ 0.05,  0.25,  0.25],\n",
       "       [ 0.05,  0.35,  0.35],\n",
       "       [ 0.15,  0.35,  0.25],\n",
       "       [ 0.15,  0.25,  0.35],\n",
       "       [ 0.05,  0.25,  0.45],\n",
       "       [ 0.05,  0.35,  0.55],\n",
       "       [ 0.15,  0.35,  0.45],\n",
       "       [ 0.15,  0.25,  0.55],\n",
       "       [ 0.05,  0.25,  0.65],\n",
       "       [ 0.05,  0.35,  0.75],\n",
       "       [ 0.15,  0.35,  0.65],\n",
       "       [ 0.15,  0.25,  0.75],\n",
       "       [ 0.05,  0.45,  0.05],\n",
       "       [ 0.05,  0.55,  0.15],\n",
       "       [ 0.15,  0.55,  0.05],\n",
       "       [ 0.15,  0.45,  0.15],\n",
       "       [ 0.05,  0.45,  0.25],\n",
       "       [ 0.05,  0.55,  0.35],\n",
       "       [ 0.15,  0.55,  0.25],\n",
       "       [ 0.15,  0.45,  0.35],\n",
       "       [ 0.05,  0.45,  0.45],\n",
       "       [ 0.05,  0.55,  0.55],\n",
       "       [ 0.15,  0.55,  0.45],\n",
       "       [ 0.15,  0.45,  0.55],\n",
       "       [ 0.05,  0.45,  0.65],\n",
       "       [ 0.05,  0.55,  0.75],\n",
       "       [ 0.15,  0.55,  0.65],\n",
       "       [ 0.15,  0.45,  0.75],\n",
       "       [ 0.05,  0.65,  0.05],\n",
       "       [ 0.05,  0.75,  0.15],\n",
       "       [ 0.15,  0.75,  0.05],\n",
       "       [ 0.15,  0.65,  0.15],\n",
       "       [ 0.05,  0.65,  0.25],\n",
       "       [ 0.05,  0.75,  0.35],\n",
       "       [ 0.15,  0.75,  0.25],\n",
       "       [ 0.15,  0.65,  0.35],\n",
       "       [ 0.05,  0.65,  0.45],\n",
       "       [ 0.05,  0.75,  0.55],\n",
       "       [ 0.15,  0.75,  0.45],\n",
       "       [ 0.15,  0.65,  0.55],\n",
       "       [ 0.05,  0.65,  0.65],\n",
       "       [ 0.05,  0.75,  0.75],\n",
       "       [ 0.15,  0.75,  0.65],\n",
       "       [ 0.15,  0.65,  0.75],\n",
       "       [ 0.25,  0.05,  0.05],\n",
       "       [ 0.25,  0.15,  0.15],\n",
       "       [ 0.35,  0.15,  0.05],\n",
       "       [ 0.35,  0.05,  0.15],\n",
       "       [ 0.25,  0.05,  0.25],\n",
       "       [ 0.25,  0.15,  0.35],\n",
       "       [ 0.35,  0.15,  0.25],\n",
       "       [ 0.35,  0.05,  0.35],\n",
       "       [ 0.25,  0.05,  0.45],\n",
       "       [ 0.25,  0.15,  0.55],\n",
       "       [ 0.35,  0.15,  0.45],\n",
       "       [ 0.35,  0.05,  0.55],\n",
       "       [ 0.25,  0.05,  0.65],\n",
       "       [ 0.25,  0.15,  0.75],\n",
       "       [ 0.35,  0.15,  0.65],\n",
       "       [ 0.35,  0.05,  0.75],\n",
       "       [ 0.25,  0.25,  0.05],\n",
       "       [ 0.25,  0.35,  0.15],\n",
       "       [ 0.35,  0.35,  0.05],\n",
       "       [ 0.35,  0.25,  0.15],\n",
       "       [ 0.25,  0.25,  0.25],\n",
       "       [ 0.25,  0.35,  0.35],\n",
       "       [ 0.35,  0.35,  0.25],\n",
       "       [ 0.35,  0.25,  0.35],\n",
       "       [ 0.25,  0.25,  0.45],\n",
       "       [ 0.25,  0.35,  0.55],\n",
       "       [ 0.35,  0.35,  0.45],\n",
       "       [ 0.35,  0.25,  0.55],\n",
       "       [ 0.25,  0.25,  0.65],\n",
       "       [ 0.25,  0.35,  0.75],\n",
       "       [ 0.35,  0.35,  0.65],\n",
       "       [ 0.35,  0.25,  0.75],\n",
       "       [ 0.25,  0.45,  0.05],\n",
       "       [ 0.25,  0.55,  0.15],\n",
       "       [ 0.35,  0.55,  0.05],\n",
       "       [ 0.35,  0.45,  0.15],\n",
       "       [ 0.25,  0.45,  0.25],\n",
       "       [ 0.25,  0.55,  0.35],\n",
       "       [ 0.35,  0.55,  0.25],\n",
       "       [ 0.35,  0.45,  0.35],\n",
       "       [ 0.25,  0.45,  0.45],\n",
       "       [ 0.25,  0.55,  0.55],\n",
       "       [ 0.35,  0.55,  0.45],\n",
       "       [ 0.35,  0.45,  0.55],\n",
       "       [ 0.25,  0.45,  0.65],\n",
       "       [ 0.25,  0.55,  0.75],\n",
       "       [ 0.35,  0.55,  0.65],\n",
       "       [ 0.35,  0.45,  0.75],\n",
       "       [ 0.25,  0.65,  0.05],\n",
       "       [ 0.25,  0.75,  0.15],\n",
       "       [ 0.35,  0.75,  0.05],\n",
       "       [ 0.35,  0.65,  0.15],\n",
       "       [ 0.25,  0.65,  0.25],\n",
       "       [ 0.25,  0.75,  0.35],\n",
       "       [ 0.35,  0.75,  0.25],\n",
       "       [ 0.35,  0.65,  0.35],\n",
       "       [ 0.25,  0.65,  0.45],\n",
       "       [ 0.25,  0.75,  0.55],\n",
       "       [ 0.35,  0.75,  0.45],\n",
       "       [ 0.35,  0.65,  0.55],\n",
       "       [ 0.25,  0.65,  0.65],\n",
       "       [ 0.25,  0.75,  0.75],\n",
       "       [ 0.35,  0.75,  0.65],\n",
       "       [ 0.35,  0.65,  0.75],\n",
       "       [ 0.45,  0.05,  0.05],\n",
       "       [ 0.45,  0.15,  0.15],\n",
       "       [ 0.55,  0.15,  0.05],\n",
       "       [ 0.55,  0.05,  0.15],\n",
       "       [ 0.45,  0.05,  0.25],\n",
       "       [ 0.45,  0.15,  0.35],\n",
       "       [ 0.55,  0.15,  0.25],\n",
       "       [ 0.55,  0.05,  0.35],\n",
       "       [ 0.45,  0.05,  0.45],\n",
       "       [ 0.45,  0.15,  0.55],\n",
       "       [ 0.55,  0.15,  0.45],\n",
       "       [ 0.55,  0.05,  0.55],\n",
       "       [ 0.45,  0.05,  0.65],\n",
       "       [ 0.45,  0.15,  0.75],\n",
       "       [ 0.55,  0.15,  0.65],\n",
       "       [ 0.55,  0.05,  0.75],\n",
       "       [ 0.45,  0.25,  0.05],\n",
       "       [ 0.45,  0.35,  0.15],\n",
       "       [ 0.55,  0.35,  0.05],\n",
       "       [ 0.55,  0.25,  0.15],\n",
       "       [ 0.45,  0.25,  0.25],\n",
       "       [ 0.45,  0.35,  0.35],\n",
       "       [ 0.55,  0.35,  0.25],\n",
       "       [ 0.55,  0.25,  0.35],\n",
       "       [ 0.45,  0.25,  0.45],\n",
       "       [ 0.45,  0.35,  0.55],\n",
       "       [ 0.55,  0.35,  0.45],\n",
       "       [ 0.55,  0.25,  0.55],\n",
       "       [ 0.45,  0.25,  0.65],\n",
       "       [ 0.45,  0.35,  0.75],\n",
       "       [ 0.55,  0.35,  0.65],\n",
       "       [ 0.55,  0.25,  0.75],\n",
       "       [ 0.45,  0.45,  0.05],\n",
       "       [ 0.45,  0.55,  0.15],\n",
       "       [ 0.55,  0.55,  0.05],\n",
       "       [ 0.55,  0.45,  0.15],\n",
       "       [ 0.45,  0.45,  0.25],\n",
       "       [ 0.45,  0.55,  0.35],\n",
       "       [ 0.55,  0.55,  0.25],\n",
       "       [ 0.55,  0.45,  0.35],\n",
       "       [ 0.45,  0.45,  0.45],\n",
       "       [ 0.45,  0.55,  0.55],\n",
       "       [ 0.55,  0.55,  0.45],\n",
       "       [ 0.55,  0.45,  0.55],\n",
       "       [ 0.45,  0.45,  0.65],\n",
       "       [ 0.45,  0.55,  0.75],\n",
       "       [ 0.55,  0.55,  0.65],\n",
       "       [ 0.55,  0.45,  0.75],\n",
       "       [ 0.45,  0.65,  0.05],\n",
       "       [ 0.45,  0.75,  0.15],\n",
       "       [ 0.55,  0.75,  0.05],\n",
       "       [ 0.55,  0.65,  0.15],\n",
       "       [ 0.45,  0.65,  0.25],\n",
       "       [ 0.45,  0.75,  0.35],\n",
       "       [ 0.55,  0.75,  0.25],\n",
       "       [ 0.55,  0.65,  0.35],\n",
       "       [ 0.45,  0.65,  0.45],\n",
       "       [ 0.45,  0.75,  0.55],\n",
       "       [ 0.55,  0.75,  0.45],\n",
       "       [ 0.55,  0.65,  0.55],\n",
       "       [ 0.45,  0.65,  0.65],\n",
       "       [ 0.45,  0.75,  0.75],\n",
       "       [ 0.55,  0.75,  0.65],\n",
       "       [ 0.55,  0.65,  0.75],\n",
       "       [ 0.65,  0.05,  0.05],\n",
       "       [ 0.65,  0.15,  0.15],\n",
       "       [ 0.75,  0.15,  0.05],\n",
       "       [ 0.75,  0.05,  0.15],\n",
       "       [ 0.65,  0.05,  0.25],\n",
       "       [ 0.65,  0.15,  0.35],\n",
       "       [ 0.75,  0.15,  0.25],\n",
       "       [ 0.75,  0.05,  0.35]])"
      ]
     },
     "execution_count": 2,
     "metadata": {},
     "output_type": "execute_result"
    }
   ],
   "source": [
    "nve_basic.fcc_positions(200, 10)"
   ]
  },
  {
   "cell_type": "code",
   "execution_count": null,
   "metadata": {
    "collapsed": true
   },
   "outputs": [],
   "source": []
  },
  {
   "cell_type": "code",
   "execution_count": null,
   "metadata": {
    "collapsed": true
   },
   "outputs": [],
   "source": []
  },
  {
   "cell_type": "markdown",
   "metadata": {},
   "source": [
    "## Calculate g(r)"
   ]
  },
  {
   "cell_type": "code",
   "execution_count": null,
   "metadata": {
    "collapsed": true
   },
   "outputs": [],
   "source": [
    "def g_of_r()"
   ]
  },
  {
   "cell_type": "code",
   "execution_count": null,
   "metadata": {
    "collapsed": true
   },
   "outputs": [],
   "source": []
  },
  {
   "cell_type": "markdown",
   "metadata": {},
   "source": [
    "### Run another simulation with fewer particles and larger width ($\\sigma$)"
   ]
  },
  {
   "cell_type": "code",
   "execution_count": 139,
   "metadata": {
    "collapsed": false
   },
   "outputs": [],
   "source": [
    "# Repeat with particles of larger width (sigma)\n",
    "n = 16\n",
    "L = 60.  # Simulation box size\n",
    "sigma = 4\n",
    "epsilon = 1.\n",
    "rcut = 20.\n",
    "dtlog = 10 # Log to trajectory every dtlog time steps\n",
    "init_pos = monad.initialize_positions(n, L)\n",
    "init_vel = monad.initialize_velocities(n, .1)\n",
    "traj, vetraj, ketraj = monad.run(init_pos, init_vel, L, nframes=5000, dtlog=10, rcut=20, sigma=sigma, epsilon=epsilon)"
   ]
  },
  {
   "cell_type": "code",
   "execution_count": 140,
   "metadata": {
    "collapsed": true
   },
   "outputs": [],
   "source": [
    "%%bash \n",
    "rm f/biglj/*.png"
   ]
  },
  {
   "cell_type": "code",
   "execution_count": 141,
   "metadata": {
    "collapsed": false
   },
   "outputs": [],
   "source": [
    "for i in range(0,300):\n",
    "    fig = plt.figure()\n",
    "    ax = fig.add_subplot(111)\n",
    "    ax.scatter(*traj[i].T)\n",
    "    ax.set_xlim(-L/2, L/2)\n",
    "    ax.set_ylim(-L/2, L/2)\n",
    "    fig.savefig('f/biglj/{}.png'.format(i), dpi=100, bbox_inches='tight')\n",
    "    plt.close(fig)"
   ]
  },
  {
   "cell_type": "code",
   "execution_count": 142,
   "metadata": {
    "collapsed": true
   },
   "outputs": [],
   "source": [
    "%%bash\n",
    "ffmpeg -framerate 25 -i f/biglj/%d.png f/biglj/out.mp4 -y  -loglevel error"
   ]
  },
  {
   "cell_type": "markdown",
   "metadata": {},
   "source": [
    "<video controls src=\"f/biglj/out.mp4\" />"
   ]
  },
  {
   "cell_type": "code",
   "execution_count": null,
   "metadata": {
    "collapsed": true
   },
   "outputs": [],
   "source": [
    "\n",
    "\n"
   ]
  }
 ],
 "metadata": {
  "kernelspec": {
   "display_name": "Python 2",
   "language": "python",
   "name": "python2"
  },
  "language_info": {
   "codemirror_mode": {
    "name": "ipython",
    "version": 2
   },
   "file_extension": ".py",
   "mimetype": "text/x-python",
   "name": "python",
   "nbconvert_exporter": "python",
   "pygments_lexer": "ipython2",
   "version": "2.7.12"
  }
 },
 "nbformat": 4,
 "nbformat_minor": 2
}
